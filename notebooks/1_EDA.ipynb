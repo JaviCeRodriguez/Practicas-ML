{
  "nbformat": 4,
  "nbformat_minor": 0,
  "metadata": {
    "colab": {
      "name": "1_EDA.ipynb",
      "provenance": [],
      "authorship_tag": "ABX9TyMiYAfQxzP34OhHgVxlhf7d",
      "include_colab_link": true
    },
    "kernelspec": {
      "name": "python3",
      "display_name": "Python 3"
    },
    "language_info": {
      "name": "python"
    }
  },
  "cells": [
    {
      "cell_type": "markdown",
      "metadata": {
        "id": "view-in-github",
        "colab_type": "text"
      },
      "source": [
        "<a href=\"https://colab.research.google.com/github/JaviCeRodriguez/Practicas-ML/blob/main/notebooks/1_EDA.ipynb\" target=\"_parent\"><img src=\"https://colab.research.google.com/assets/colab-badge.svg\" alt=\"Open In Colab\"/></a>"
      ]
    },
    {
      "cell_type": "markdown",
      "metadata": {
        "id": "9e3yOF02Cl-J"
      },
      "source": [
        "# Análisis Exploratorio de Datos (EDA)\n",
        "\n",
        "A partir de un dataset, se realiza una exploración previa de los datos del dataset"
      ]
    },
    {
      "cell_type": "code",
      "metadata": {
        "id": "niCwWfOuCha9"
      },
      "source": [
        ""
      ],
      "execution_count": null,
      "outputs": []
    }
  ]
}